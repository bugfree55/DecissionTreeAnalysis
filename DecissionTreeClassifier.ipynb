{
 "cells": [
  {
   "cell_type": "code",
   "execution_count": 64,
   "id": "0f362144",
   "metadata": {},
   "outputs": [],
   "source": [
    "import pandas as pd\n",
    "import matplotlib.pyplot as plt\n",
    "from sklearn import tree\n",
    "from sklearn.model_selection import train_test_split\n",
    "from sklearn.tree import DecisionTreeRegressor\n",
    "from sklearn.tree import DecisionTreeClassifier\n",
    "\n",
    "import seaborn as sns"
   ]
  },
  {
   "cell_type": "markdown",
   "id": "d5b1d02c",
   "metadata": {},
   "source": [
    "## Dataset link\n",
    "https://www.kaggle.com/datasets/arhamrumi/amazon-product-reviews\n"
   ]
  },
  {
   "cell_type": "code",
   "execution_count": 3,
   "id": "d51ca707",
   "metadata": {},
   "outputs": [
    {
     "data": {
      "text/html": [
       "<div>\n",
       "<style scoped>\n",
       "    .dataframe tbody tr th:only-of-type {\n",
       "        vertical-align: middle;\n",
       "    }\n",
       "\n",
       "    .dataframe tbody tr th {\n",
       "        vertical-align: top;\n",
       "    }\n",
       "\n",
       "    .dataframe thead th {\n",
       "        text-align: right;\n",
       "    }\n",
       "</style>\n",
       "<table border=\"1\" class=\"dataframe\">\n",
       "  <thead>\n",
       "    <tr style=\"text-align: right;\">\n",
       "      <th></th>\n",
       "      <th>Id</th>\n",
       "      <th>ProductId</th>\n",
       "      <th>UserId</th>\n",
       "      <th>ProfileName</th>\n",
       "      <th>HelpfulnessNumerator</th>\n",
       "      <th>HelpfulnessDenominator</th>\n",
       "      <th>Score</th>\n",
       "      <th>Time</th>\n",
       "      <th>Summary</th>\n",
       "      <th>Text</th>\n",
       "    </tr>\n",
       "  </thead>\n",
       "  <tbody>\n",
       "    <tr>\n",
       "      <th>0</th>\n",
       "      <td>1</td>\n",
       "      <td>B001E4KFG0</td>\n",
       "      <td>A3SGXH7AUHU8GW</td>\n",
       "      <td>delmartian</td>\n",
       "      <td>1</td>\n",
       "      <td>1</td>\n",
       "      <td>5</td>\n",
       "      <td>1303862400</td>\n",
       "      <td>Good Quality Dog Food</td>\n",
       "      <td>I have bought several of the Vitality canned d...</td>\n",
       "    </tr>\n",
       "    <tr>\n",
       "      <th>1</th>\n",
       "      <td>2</td>\n",
       "      <td>B00813GRG4</td>\n",
       "      <td>A1D87F6ZCVE5NK</td>\n",
       "      <td>dll pa</td>\n",
       "      <td>0</td>\n",
       "      <td>0</td>\n",
       "      <td>1</td>\n",
       "      <td>1346976000</td>\n",
       "      <td>Not as Advertised</td>\n",
       "      <td>Product arrived labeled as Jumbo Salted Peanut...</td>\n",
       "    </tr>\n",
       "    <tr>\n",
       "      <th>2</th>\n",
       "      <td>3</td>\n",
       "      <td>B000LQOCH0</td>\n",
       "      <td>ABXLMWJIXXAIN</td>\n",
       "      <td>Natalia Corres \"Natalia Corres\"</td>\n",
       "      <td>1</td>\n",
       "      <td>1</td>\n",
       "      <td>4</td>\n",
       "      <td>1219017600</td>\n",
       "      <td>\"Delight\" says it all</td>\n",
       "      <td>This is a confection that has been around a fe...</td>\n",
       "    </tr>\n",
       "    <tr>\n",
       "      <th>3</th>\n",
       "      <td>4</td>\n",
       "      <td>B000UA0QIQ</td>\n",
       "      <td>A395BORC6FGVXV</td>\n",
       "      <td>Karl</td>\n",
       "      <td>3</td>\n",
       "      <td>3</td>\n",
       "      <td>2</td>\n",
       "      <td>1307923200</td>\n",
       "      <td>Cough Medicine</td>\n",
       "      <td>If you are looking for the secret ingredient i...</td>\n",
       "    </tr>\n",
       "    <tr>\n",
       "      <th>4</th>\n",
       "      <td>5</td>\n",
       "      <td>B006K2ZZ7K</td>\n",
       "      <td>A1UQRSCLF8GW1T</td>\n",
       "      <td>Michael D. Bigham \"M. Wassir\"</td>\n",
       "      <td>0</td>\n",
       "      <td>0</td>\n",
       "      <td>5</td>\n",
       "      <td>1350777600</td>\n",
       "      <td>Great taffy</td>\n",
       "      <td>Great taffy at a great price.  There was a wid...</td>\n",
       "    </tr>\n",
       "  </tbody>\n",
       "</table>\n",
       "</div>"
      ],
      "text/plain": [
       "   Id   ProductId          UserId                      ProfileName  \\\n",
       "0   1  B001E4KFG0  A3SGXH7AUHU8GW                       delmartian   \n",
       "1   2  B00813GRG4  A1D87F6ZCVE5NK                           dll pa   \n",
       "2   3  B000LQOCH0   ABXLMWJIXXAIN  Natalia Corres \"Natalia Corres\"   \n",
       "3   4  B000UA0QIQ  A395BORC6FGVXV                             Karl   \n",
       "4   5  B006K2ZZ7K  A1UQRSCLF8GW1T    Michael D. Bigham \"M. Wassir\"   \n",
       "\n",
       "   HelpfulnessNumerator  HelpfulnessDenominator  Score        Time  \\\n",
       "0                     1                       1      5  1303862400   \n",
       "1                     0                       0      1  1346976000   \n",
       "2                     1                       1      4  1219017600   \n",
       "3                     3                       3      2  1307923200   \n",
       "4                     0                       0      5  1350777600   \n",
       "\n",
       "                 Summary                                               Text  \n",
       "0  Good Quality Dog Food  I have bought several of the Vitality canned d...  \n",
       "1      Not as Advertised  Product arrived labeled as Jumbo Salted Peanut...  \n",
       "2  \"Delight\" says it all  This is a confection that has been around a fe...  \n",
       "3         Cough Medicine  If you are looking for the secret ingredient i...  \n",
       "4            Great taffy  Great taffy at a great price.  There was a wid...  "
      ]
     },
     "execution_count": 3,
     "metadata": {},
     "output_type": "execute_result"
    }
   ],
   "source": [
    "df = pd.read_csv(\"reviews.csv\")\n",
    "df.head()"
   ]
  },
  {
   "cell_type": "code",
   "execution_count": 32,
   "id": "319e8945",
   "metadata": {},
   "outputs": [
    {
     "name": "stdout",
     "output_type": "stream",
     "text": [
      "length 568454\n",
      "unique summary 295743\n"
     ]
    },
    {
     "data": {
      "text/plain": [
       "Id                           int64\n",
       "ProductId                 category\n",
       "UserId                    category\n",
       "ProfileName                 object\n",
       "HelpfulnessNumerator         int64\n",
       "HelpfulnessDenominator       int64\n",
       "Score                        int64\n",
       "Time                         int64\n",
       "Summary                   category\n",
       "Text                        object\n",
       "dtype: object"
      ]
     },
     "execution_count": 32,
     "metadata": {},
     "output_type": "execute_result"
    }
   ],
   "source": [
    "print(\"length\",len(df))\n",
    "print(\"unique summary\",len(df['Summary'].unique()))\n",
    "#df['ProductId'].describe()\n",
    "df['Summary'] = df['Summary'].astype('category')\n",
    "df['UserId'] = df['UserId'].astype('category')\n",
    "df['ProductId'] = df['ProductId'].astype('category')\n",
    "df.dtypes"
   ]
  },
  {
   "cell_type": "code",
   "execution_count": 37,
   "id": "fe67629b",
   "metadata": {},
   "outputs": [
    {
     "data": {
      "text/html": [
       "<div>\n",
       "<style scoped>\n",
       "    .dataframe tbody tr th:only-of-type {\n",
       "        vertical-align: middle;\n",
       "    }\n",
       "\n",
       "    .dataframe tbody tr th {\n",
       "        vertical-align: top;\n",
       "    }\n",
       "\n",
       "    .dataframe thead th {\n",
       "        text-align: right;\n",
       "    }\n",
       "</style>\n",
       "<table border=\"1\" class=\"dataframe\">\n",
       "  <thead>\n",
       "    <tr style=\"text-align: right;\">\n",
       "      <th></th>\n",
       "      <th>Id</th>\n",
       "      <th>ProductId</th>\n",
       "      <th>UserId</th>\n",
       "      <th>ProfileName</th>\n",
       "      <th>HelpfulnessNumerator</th>\n",
       "      <th>HelpfulnessDenominator</th>\n",
       "      <th>Score</th>\n",
       "      <th>Time</th>\n",
       "      <th>Summary</th>\n",
       "      <th>Text</th>\n",
       "    </tr>\n",
       "  </thead>\n",
       "  <tbody>\n",
       "    <tr>\n",
       "      <th>0</th>\n",
       "      <td>1</td>\n",
       "      <td>27619</td>\n",
       "      <td>188646</td>\n",
       "      <td>delmartian</td>\n",
       "      <td>1</td>\n",
       "      <td>1</td>\n",
       "      <td>5</td>\n",
       "      <td>1303862400</td>\n",
       "      <td>83434</td>\n",
       "      <td>I have bought several of the Vitality canned d...</td>\n",
       "    </tr>\n",
       "    <tr>\n",
       "      <th>1</th>\n",
       "      <td>2</td>\n",
       "      <td>72383</td>\n",
       "      <td>25105</td>\n",
       "      <td>dll pa</td>\n",
       "      <td>0</td>\n",
       "      <td>0</td>\n",
       "      <td>1</td>\n",
       "      <td>1346976000</td>\n",
       "      <td>167649</td>\n",
       "      <td>Product arrived labeled as Jumbo Salted Peanut...</td>\n",
       "    </tr>\n",
       "    <tr>\n",
       "      <th>2</th>\n",
       "      <td>3</td>\n",
       "      <td>15267</td>\n",
       "      <td>210482</td>\n",
       "      <td>Natalia Corres \"Natalia Corres\"</td>\n",
       "      <td>1</td>\n",
       "      <td>1</td>\n",
       "      <td>4</td>\n",
       "      <td>1219017600</td>\n",
       "      <td>126</td>\n",
       "      <td>This is a confection that has been around a fe...</td>\n",
       "    </tr>\n",
       "    <tr>\n",
       "      <th>3</th>\n",
       "      <td>4</td>\n",
       "      <td>19718</td>\n",
       "      <td>152635</td>\n",
       "      <td>Karl</td>\n",
       "      <td>3</td>\n",
       "      <td>3</td>\n",
       "      <td>2</td>\n",
       "      <td>1307923200</td>\n",
       "      <td>47071</td>\n",
       "      <td>If you are looking for the secret ingredient i...</td>\n",
       "    </tr>\n",
       "    <tr>\n",
       "      <th>4</th>\n",
       "      <td>5</td>\n",
       "      <td>69007</td>\n",
       "      <td>57804</td>\n",
       "      <td>Michael D. Bigham \"M. Wassir\"</td>\n",
       "      <td>0</td>\n",
       "      <td>0</td>\n",
       "      <td>5</td>\n",
       "      <td>1350777600</td>\n",
       "      <td>107323</td>\n",
       "      <td>Great taffy at a great price.  There was a wid...</td>\n",
       "    </tr>\n",
       "  </tbody>\n",
       "</table>\n",
       "</div>"
      ],
      "text/plain": [
       "   Id  ProductId  UserId                      ProfileName  \\\n",
       "0   1      27619  188646                       delmartian   \n",
       "1   2      72383   25105                           dll pa   \n",
       "2   3      15267  210482  Natalia Corres \"Natalia Corres\"   \n",
       "3   4      19718  152635                             Karl   \n",
       "4   5      69007   57804    Michael D. Bigham \"M. Wassir\"   \n",
       "\n",
       "   HelpfulnessNumerator  HelpfulnessDenominator  Score        Time  Summary  \\\n",
       "0                     1                       1      5  1303862400    83434   \n",
       "1                     0                       0      1  1346976000   167649   \n",
       "2                     1                       1      4  1219017600      126   \n",
       "3                     3                       3      2  1307923200    47071   \n",
       "4                     0                       0      5  1350777600   107323   \n",
       "\n",
       "                                                Text  \n",
       "0  I have bought several of the Vitality canned d...  \n",
       "1  Product arrived labeled as Jumbo Salted Peanut...  \n",
       "2  This is a confection that has been around a fe...  \n",
       "3  If you are looking for the secret ingredient i...  \n",
       "4  Great taffy at a great price.  There was a wid...  "
      ]
     },
     "execution_count": 37,
     "metadata": {},
     "output_type": "execute_result"
    }
   ],
   "source": [
    "cat_columns = df.select_dtypes(['category']).columns\n",
    "cat_columns\n",
    "df[cat_columns] = df[cat_columns].apply(lambda x: x.cat.codes)\n",
    "df.head()\n"
   ]
  },
  {
   "cell_type": "code",
   "execution_count": 47,
   "id": "e1b0364c",
   "metadata": {},
   "outputs": [],
   "source": [
    "features = ['HelpfulnessNumerator', 'HelpfulnessDenominator', 'Time','Summary', 'UserId','ProductId']\n",
    "cols = ['HelpfulnessNumerator', 'HelpfulnessDenominator', 'Time','Summary', 'UserId','ProductId','Score']\n",
    "df=df[cols]\n",
    "X = df.loc[:, features]\n",
    "y= df.loc[:,'Score']"
   ]
  },
  {
   "cell_type": "code",
   "execution_count": 48,
   "id": "ddb9cf64",
   "metadata": {},
   "outputs": [],
   "source": [
    "X_train, X_test, y_train, y_test = train_test_split(X, y, random_state=0, train_size = .7)"
   ]
  },
  {
   "cell_type": "code",
   "execution_count": 49,
   "id": "f1a0c5fb",
   "metadata": {},
   "outputs": [
    {
     "name": "stdout",
     "output_type": "stream",
     "text": [
      "<class 'pandas.core.frame.DataFrame'>\n",
      "Int64Index: 397917 entries, 333546 to 305711\n",
      "Data columns (total 6 columns):\n",
      " #   Column                  Non-Null Count   Dtype\n",
      "---  ------                  --------------   -----\n",
      " 0   HelpfulnessNumerator    397917 non-null  int64\n",
      " 1   HelpfulnessDenominator  397917 non-null  int64\n",
      " 2   Time                    397917 non-null  int64\n",
      " 3   Summary                 397917 non-null  int32\n",
      " 4   UserId                  397917 non-null  int32\n",
      " 5   ProductId               397917 non-null  int32\n",
      "dtypes: int32(3), int64(3)\n",
      "memory usage: 16.7 MB\n"
     ]
    }
   ],
   "source": [
    "X_train.info()"
   ]
  },
  {
   "cell_type": "code",
   "execution_count": 50,
   "id": "33da0e24",
   "metadata": {},
   "outputs": [
    {
     "data": {
      "text/plain": [
       "HelpfulnessNumerator      0\n",
       "HelpfulnessDenominator    0\n",
       "Time                      0\n",
       "Summary                   0\n",
       "UserId                    0\n",
       "ProductId                 0\n",
       "dtype: int64"
      ]
     },
     "execution_count": 50,
     "metadata": {},
     "output_type": "execute_result"
    }
   ],
   "source": [
    "X_train.isnull().sum()"
   ]
  },
  {
   "cell_type": "code",
   "execution_count": 51,
   "id": "3e58c5c6",
   "metadata": {},
   "outputs": [
    {
     "data": {
      "text/html": [
       "<div>\n",
       "<style scoped>\n",
       "    .dataframe tbody tr th:only-of-type {\n",
       "        vertical-align: middle;\n",
       "    }\n",
       "\n",
       "    .dataframe tbody tr th {\n",
       "        vertical-align: top;\n",
       "    }\n",
       "\n",
       "    .dataframe thead th {\n",
       "        text-align: right;\n",
       "    }\n",
       "</style>\n",
       "<table border=\"1\" class=\"dataframe\">\n",
       "  <thead>\n",
       "    <tr style=\"text-align: right;\">\n",
       "      <th></th>\n",
       "      <th>HelpfulnessNumerator</th>\n",
       "      <th>HelpfulnessDenominator</th>\n",
       "      <th>Time</th>\n",
       "      <th>Summary</th>\n",
       "      <th>UserId</th>\n",
       "      <th>ProductId</th>\n",
       "    </tr>\n",
       "  </thead>\n",
       "  <tbody>\n",
       "    <tr>\n",
       "      <th>count</th>\n",
       "      <td>397917.000000</td>\n",
       "      <td>397917.000000</td>\n",
       "      <td>3.979170e+05</td>\n",
       "      <td>397917.000000</td>\n",
       "      <td>397917.000000</td>\n",
       "      <td>397917.000000</td>\n",
       "    </tr>\n",
       "    <tr>\n",
       "      <th>mean</th>\n",
       "      <td>1.749078</td>\n",
       "      <td>2.231827</td>\n",
       "      <td>1.296217e+09</td>\n",
       "      <td>148312.345916</td>\n",
       "      <td>128555.180357</td>\n",
       "      <td>34785.412126</td>\n",
       "    </tr>\n",
       "    <tr>\n",
       "      <th>std</th>\n",
       "      <td>7.743817</td>\n",
       "      <td>8.387483</td>\n",
       "      <td>4.809582e+07</td>\n",
       "      <td>85100.280409</td>\n",
       "      <td>73636.071812</td>\n",
       "      <td>21229.398155</td>\n",
       "    </tr>\n",
       "    <tr>\n",
       "      <th>min</th>\n",
       "      <td>0.000000</td>\n",
       "      <td>0.000000</td>\n",
       "      <td>9.393408e+08</td>\n",
       "      <td>-1.000000</td>\n",
       "      <td>2.000000</td>\n",
       "      <td>0.000000</td>\n",
       "    </tr>\n",
       "    <tr>\n",
       "      <th>25%</th>\n",
       "      <td>0.000000</td>\n",
       "      <td>0.000000</td>\n",
       "      <td>1.271290e+09</td>\n",
       "      <td>75314.000000</td>\n",
       "      <td>65145.000000</td>\n",
       "      <td>15989.000000</td>\n",
       "    </tr>\n",
       "    <tr>\n",
       "      <th>50%</th>\n",
       "      <td>0.000000</td>\n",
       "      <td>1.000000</td>\n",
       "      <td>1.311120e+09</td>\n",
       "      <td>145076.000000</td>\n",
       "      <td>128547.000000</td>\n",
       "      <td>32923.000000</td>\n",
       "    </tr>\n",
       "    <tr>\n",
       "      <th>75%</th>\n",
       "      <td>2.000000</td>\n",
       "      <td>2.000000</td>\n",
       "      <td>1.332720e+09</td>\n",
       "      <td>223306.000000</td>\n",
       "      <td>192151.000000</td>\n",
       "      <td>51391.000000</td>\n",
       "    </tr>\n",
       "    <tr>\n",
       "      <th>max</th>\n",
       "      <td>866.000000</td>\n",
       "      <td>923.000000</td>\n",
       "      <td>1.351210e+09</td>\n",
       "      <td>295740.000000</td>\n",
       "      <td>256058.000000</td>\n",
       "      <td>74256.000000</td>\n",
       "    </tr>\n",
       "  </tbody>\n",
       "</table>\n",
       "</div>"
      ],
      "text/plain": [
       "       HelpfulnessNumerator  HelpfulnessDenominator          Time  \\\n",
       "count         397917.000000           397917.000000  3.979170e+05   \n",
       "mean               1.749078                2.231827  1.296217e+09   \n",
       "std                7.743817                8.387483  4.809582e+07   \n",
       "min                0.000000                0.000000  9.393408e+08   \n",
       "25%                0.000000                0.000000  1.271290e+09   \n",
       "50%                0.000000                1.000000  1.311120e+09   \n",
       "75%                2.000000                2.000000  1.332720e+09   \n",
       "max              866.000000              923.000000  1.351210e+09   \n",
       "\n",
       "             Summary         UserId      ProductId  \n",
       "count  397917.000000  397917.000000  397917.000000  \n",
       "mean   148312.345916  128555.180357   34785.412126  \n",
       "std     85100.280409   73636.071812   21229.398155  \n",
       "min        -1.000000       2.000000       0.000000  \n",
       "25%     75314.000000   65145.000000   15989.000000  \n",
       "50%    145076.000000  128547.000000   32923.000000  \n",
       "75%    223306.000000  192151.000000   51391.000000  \n",
       "max    295740.000000  256058.000000   74256.000000  "
      ]
     },
     "execution_count": 51,
     "metadata": {},
     "output_type": "execute_result"
    }
   ],
   "source": [
    "## Show Xtrain Describe\n",
    "X_train.describe()"
   ]
  },
  {
   "cell_type": "code",
   "execution_count": 52,
   "id": "4acedc74",
   "metadata": {},
   "outputs": [
    {
     "data": {
      "text/plain": [
       "(array([2.7000e+01, 2.6000e+01, 4.8000e+01, 4.7600e+02, 1.6390e+03,\n",
       "        1.3131e+04, 2.7437e+04, 5.2910e+04, 9.9863e+04, 2.0236e+05]),\n",
       " array([9.39340800e+08, 9.80527680e+08, 1.02171456e+09, 1.06290144e+09,\n",
       "        1.10408832e+09, 1.14527520e+09, 1.18646208e+09, 1.22764896e+09,\n",
       "        1.26883584e+09, 1.31002272e+09, 1.35120960e+09]),\n",
       " <BarContainer object of 10 artists>)"
      ]
     },
     "execution_count": 52,
     "metadata": {},
     "output_type": "execute_result"
    },
    {
     "data": {
      "image/png": "[encoded data removed]",
      "text/plain": [
       "<Figure size 432x288 with 1 Axes>"
      ]
     },
     "metadata": {
      "needs_background": "light"
     },
     "output_type": "display_data"
    }
   ],
   "source": [
    "plt.hist(X_train['Time'])"
   ]
  },
  {
   "cell_type": "code",
   "execution_count": 53,
   "id": "515e03b8",
   "metadata": {},
   "outputs": [
    {
     "data": {
      "text/plain": [
       "{'whiskers': [<matplotlib.lines.Line2D at 0x20921aefa60>,\n",
       "  <matplotlib.lines.Line2D at 0x20921aefdf0>,\n",
       "  <matplotlib.lines.Line2D at 0x20921b0b3d0>,\n",
       "  <matplotlib.lines.Line2D at 0x20921b0b760>,\n",
       "  <matplotlib.lines.Line2D at 0x20921b16d00>,\n",
       "  <matplotlib.lines.Line2D at 0x20921b210d0>,\n",
       "  <matplotlib.lines.Line2D at 0x20921b2d670>,\n",
       "  <matplotlib.lines.Line2D at 0x20921b2da00>,\n",
       "  <matplotlib.lines.Line2D at 0x20921b3cfa0>,\n",
       "  <matplotlib.lines.Line2D at 0x20921b45370>,\n",
       "  <matplotlib.lines.Line2D at 0x20921b50910>,\n",
       "  <matplotlib.lines.Line2D at 0x20921b50ca0>],\n",
       " 'caps': [<matplotlib.lines.Line2D at 0x20921aff1c0>,\n",
       "  <matplotlib.lines.Line2D at 0x20921aff550>,\n",
       "  <matplotlib.lines.Line2D at 0x20921b0baf0>,\n",
       "  <matplotlib.lines.Line2D at 0x20921b0be80>,\n",
       "  <matplotlib.lines.Line2D at 0x20921b21460>,\n",
       "  <matplotlib.lines.Line2D at 0x20921b217f0>,\n",
       "  <matplotlib.lines.Line2D at 0x20921b2dd90>,\n",
       "  <matplotlib.lines.Line2D at 0x20921b3c160>,\n",
       "  <matplotlib.lines.Line2D at 0x20921b45700>,\n",
       "  <matplotlib.lines.Line2D at 0x20921b45a90>,\n",
       "  <matplotlib.lines.Line2D at 0x20921b5d070>,\n",
       "  <matplotlib.lines.Line2D at 0x20921b5d400>],\n",
       " 'boxes': [<matplotlib.lines.Line2D at 0x20921aef6d0>,\n",
       "  <matplotlib.lines.Line2D at 0x20921b0b040>,\n",
       "  <matplotlib.lines.Line2D at 0x20921b16970>,\n",
       "  <matplotlib.lines.Line2D at 0x20921b2d2e0>,\n",
       "  <matplotlib.lines.Line2D at 0x20921b3cc10>,\n",
       "  <matplotlib.lines.Line2D at 0x20921b50580>],\n",
       " 'medians': [<matplotlib.lines.Line2D at 0x20921aff8e0>,\n",
       "  <matplotlib.lines.Line2D at 0x20921b16250>,\n",
       "  <matplotlib.lines.Line2D at 0x20921b21b80>,\n",
       "  <matplotlib.lines.Line2D at 0x20921b3c4f0>,\n",
       "  <matplotlib.lines.Line2D at 0x20921b45e20>,\n",
       "  <matplotlib.lines.Line2D at 0x20921b5d790>],\n",
       " 'fliers': [<matplotlib.lines.Line2D at 0x20921affc70>,\n",
       "  <matplotlib.lines.Line2D at 0x20921b165e0>,\n",
       "  <matplotlib.lines.Line2D at 0x20921b21f10>,\n",
       "  <matplotlib.lines.Line2D at 0x20921b3c880>,\n",
       "  <matplotlib.lines.Line2D at 0x20921b501f0>,\n",
       "  <matplotlib.lines.Line2D at 0x20921b5db20>],\n",
       " 'means': []}"
      ]
     },
     "execution_count": 53,
     "metadata": {},
     "output_type": "execute_result"
    },
    {
     "data": {
      "image/png": "[encoded data removed]",
      "text/plain": [
       "<Figure size 432x288 with 1 Axes>"
      ]
     },
     "metadata": {
      "needs_background": "light"
     },
     "output_type": "display_data"
    }
   ],
   "source": [
    "### Show boxplot of features\n",
    "plt.boxplot(X_train)"
   ]
  },
  {
   "cell_type": "code",
   "execution_count": 45,
   "id": "5842b27a",
   "metadata": {},
   "outputs": [
    {
     "data": {
      "text/html": [
       "<div>\n",
       "<style scoped>\n",
       "    .dataframe tbody tr th:only-of-type {\n",
       "        vertical-align: middle;\n",
       "    }\n",
       "\n",
       "    .dataframe tbody tr th {\n",
       "        vertical-align: top;\n",
       "    }\n",
       "\n",
       "    .dataframe thead th {\n",
       "        text-align: right;\n",
       "    }\n",
       "</style>\n",
       "<table border=\"1\" class=\"dataframe\">\n",
       "  <thead>\n",
       "    <tr style=\"text-align: right;\">\n",
       "      <th></th>\n",
       "      <th>HelpfulnessNumerator</th>\n",
       "      <th>HelpfulnessDenominator</th>\n",
       "      <th>Time</th>\n",
       "      <th>Summary</th>\n",
       "      <th>UserId</th>\n",
       "      <th>ProductId</th>\n",
       "    </tr>\n",
       "  </thead>\n",
       "  <tbody>\n",
       "    <tr>\n",
       "      <th>HelpfulnessNumerator</th>\n",
       "      <td>1.000000</td>\n",
       "      <td>0.976223</td>\n",
       "      <td>-0.153102</td>\n",
       "      <td>-0.005489</td>\n",
       "      <td>-0.005428</td>\n",
       "      <td>-0.032285</td>\n",
       "    </tr>\n",
       "    <tr>\n",
       "      <th>HelpfulnessDenominator</th>\n",
       "      <td>0.976223</td>\n",
       "      <td>1.000000</td>\n",
       "      <td>-0.171041</td>\n",
       "      <td>-0.000938</td>\n",
       "      <td>-0.004843</td>\n",
       "      <td>-0.037050</td>\n",
       "    </tr>\n",
       "    <tr>\n",
       "      <th>Time</th>\n",
       "      <td>-0.153102</td>\n",
       "      <td>-0.171041</td>\n",
       "      <td>1.000000</td>\n",
       "      <td>0.001376</td>\n",
       "      <td>0.000062</td>\n",
       "      <td>0.417867</td>\n",
       "    </tr>\n",
       "    <tr>\n",
       "      <th>Summary</th>\n",
       "      <td>-0.005489</td>\n",
       "      <td>-0.000938</td>\n",
       "      <td>0.001376</td>\n",
       "      <td>1.000000</td>\n",
       "      <td>0.000256</td>\n",
       "      <td>-0.006606</td>\n",
       "    </tr>\n",
       "    <tr>\n",
       "      <th>UserId</th>\n",
       "      <td>-0.005428</td>\n",
       "      <td>-0.004843</td>\n",
       "      <td>0.000062</td>\n",
       "      <td>0.000256</td>\n",
       "      <td>1.000000</td>\n",
       "      <td>-0.000182</td>\n",
       "    </tr>\n",
       "    <tr>\n",
       "      <th>ProductId</th>\n",
       "      <td>-0.032285</td>\n",
       "      <td>-0.037050</td>\n",
       "      <td>0.417867</td>\n",
       "      <td>-0.006606</td>\n",
       "      <td>-0.000182</td>\n",
       "      <td>1.000000</td>\n",
       "    </tr>\n",
       "  </tbody>\n",
       "</table>\n",
       "</div>"
      ],
      "text/plain": [
       "                        HelpfulnessNumerator  HelpfulnessDenominator  \\\n",
       "HelpfulnessNumerator                1.000000                0.976223   \n",
       "HelpfulnessDenominator              0.976223                1.000000   \n",
       "Time                               -0.153102               -0.171041   \n",
       "Summary                            -0.005489               -0.000938   \n",
       "UserId                             -0.005428               -0.004843   \n",
       "ProductId                          -0.032285               -0.037050   \n",
       "\n",
       "                            Time   Summary    UserId  ProductId  \n",
       "HelpfulnessNumerator   -0.153102 -0.005489 -0.005428  -0.032285  \n",
       "HelpfulnessDenominator -0.171041 -0.000938 -0.004843  -0.037050  \n",
       "Time                    1.000000  0.001376  0.000062   0.417867  \n",
       "Summary                 0.001376  1.000000  0.000256  -0.006606  \n",
       "UserId                  0.000062  0.000256  1.000000  -0.000182  \n",
       "ProductId               0.417867 -0.006606 -0.000182   1.000000  "
      ]
     },
     "execution_count": 45,
     "metadata": {},
     "output_type": "execute_result"
    }
   ],
   "source": [
    "### Show correlation\n",
    "X_train.corr()"
   ]
  },
  {
   "cell_type": "code",
   "execution_count": 69,
   "id": "9a9b5137",
   "metadata": {},
   "outputs": [
    {
     "data": {
      "text/plain": [
       "<AxesSubplot:>"
      ]
     },
     "execution_count": 69,
     "metadata": {},
     "output_type": "execute_result"
    },
    {
     "data": {
      "image/png": "[encoded data removed]",
      "text/plain": [
       "<Figure size 432x288 with 2 Axes>"
      ]
     },
     "metadata": {
      "needs_background": "light"
     },
     "output_type": "display_data"
    }
   ],
   "source": [
    "sns.heatmap(df.corr(), annot=True)"
   ]
  },
  {
   "cell_type": "markdown",
   "id": "a570e8a1",
   "metadata": {},
   "source": [
    "## Select most influential variables\n",
    "I select time, helpfulness and Userid"
   ]
  },
  {
   "cell_type": "markdown",
   "id": "7580a9d8",
   "metadata": {},
   "source": [
    "## Plot a correlation of most influential features with the target variable"
   ]
  },
  {
   "cell_type": "code",
   "execution_count": 63,
   "id": "5f014527",
   "metadata": {},
   "outputs": [
    {
     "data": {
      "text/plain": [
       "[<matplotlib.lines.Line2D at 0x2093aa9aeb0>,\n",
       " <matplotlib.lines.Line2D at 0x2093aa9adf0>,\n",
       " <matplotlib.lines.Line2D at 0x2093aa9afa0>,\n",
       " <matplotlib.lines.Line2D at 0x2093aaa7100>]"
      ]
     },
     "execution_count": 63,
     "metadata": {},
     "output_type": "execute_result"
    },
    {
     "data": {
      "image/png": "[encoded data removed]",
      "text/plain": [
       "<Figure size 432x288 with 1 Axes>"
      ]
     },
     "metadata": {
      "needs_background": "light"
     },
     "output_type": "display_data"
    }
   ],
   "source": [
    "cols = ['Time', 'HelpfulnessNumerator','HelpfulnessDenominator','UserId']\n",
    "plt.plot(df[cols].corr())"
   ]
  },
  {
   "cell_type": "markdown",
   "id": "b2ca9e8e",
   "metadata": {},
   "source": [
    "## Create model\n"
   ]
  },
  {
   "cell_type": "code",
   "execution_count": 66,
   "id": "90fca385",
   "metadata": {},
   "outputs": [
    {
     "data": {
      "text/html": [
       "<style>#sk-container-id-2 {color: black;background-color: white;}#sk-container-id-2 pre{padding: 0;}#sk-container-id-2 div.sk-toggleable {background-color: white;}#sk-container-id-2 label.sk-toggleable__label {cursor: pointer;display: block;width: 100%;margin-bottom: 0;padding: 0.3em;box-sizing: border-box;text-align: center;}#sk-container-id-2 label.sk-toggleable__label-arrow:before {content: \"▸\";float: left;margin-right: 0.25em;color: #696969;}#sk-container-id-2 label.sk-toggleable__label-arrow:hover:before {color: black;}#sk-container-id-2 div.sk-estimator:hover label.sk-toggleable__label-arrow:before {color: black;}#sk-container-id-2 div.sk-toggleable__content {max-height: 0;max-width: 0;overflow: hidden;text-align: left;background-color: #f0f8ff;}#sk-container-id-2 div.sk-toggleable__content pre {margin: 0.2em;color: black;border-radius: 0.25em;background-color: #f0f8ff;}#sk-container-id-2 input.sk-toggleable__control:checked~div.sk-toggleable__content {max-height: 200px;max-width: 100%;overflow: auto;}#sk-container-id-2 input.sk-toggleable__control:checked~label.sk-toggleable__label-arrow:before {content: \"▾\";}#sk-container-id-2 div.sk-estimator input.sk-toggleable__control:checked~label.sk-toggleable__label {background-color: #d4ebff;}#sk-container-id-2 div.sk-label input.sk-toggleable__control:checked~label.sk-toggleable__label {background-color: #d4ebff;}#sk-container-id-2 input.sk-hidden--visually {border: 0;clip: rect(1px 1px 1px 1px);clip: rect(1px, 1px, 1px, 1px);height: 1px;margin: -1px;overflow: hidden;padding: 0;position: absolute;width: 1px;}#sk-container-id-2 div.sk-estimator {font-family: monospace;background-color: #f0f8ff;border: 1px dotted black;border-radius: 0.25em;box-sizing: border-box;margin-bottom: 0.5em;}#sk-container-id-2 div.sk-estimator:hover {background-color: #d4ebff;}#sk-container-id-2 div.sk-parallel-item::after {content: \"\";width: 100%;border-bottom: 1px solid gray;flex-grow: 1;}#sk-container-id-2 div.sk-label:hover label.sk-toggleable__label {background-color: #d4ebff;}#sk-container-id-2 div.sk-serial::before {content: \"\";position: absolute;border-left: 1px solid gray;box-sizing: border-box;top: 0;bottom: 0;left: 50%;z-index: 0;}#sk-container-id-2 div.sk-serial {display: flex;flex-direction: column;align-items: center;background-color: white;padding-right: 0.2em;padding-left: 0.2em;position: relative;}#sk-container-id-2 div.sk-item {position: relative;z-index: 1;}#sk-container-id-2 div.sk-parallel {display: flex;align-items: stretch;justify-content: center;background-color: white;position: relative;}#sk-container-id-2 div.sk-item::before, #sk-container-id-2 div.sk-parallel-item::before {content: \"\";position: absolute;border-left: 1px solid gray;box-sizing: border-box;top: 0;bottom: 0;left: 50%;z-index: -1;}#sk-container-id-2 div.sk-parallel-item {display: flex;flex-direction: column;z-index: 1;position: relative;background-color: white;}#sk-container-id-2 div.sk-parallel-item:first-child::after {align-self: flex-end;width: 50%;}#sk-container-id-2 div.sk-parallel-item:last-child::after {align-self: flex-start;width: 50%;}#sk-container-id-2 div.sk-parallel-item:only-child::after {width: 0;}#sk-container-id-2 div.sk-dashed-wrapped {border: 1px dashed gray;margin: 0 0.4em 0.5em 0.4em;box-sizing: border-box;padding-bottom: 0.4em;background-color: white;}#sk-container-id-2 div.sk-label label {font-family: monospace;font-weight: bold;display: inline-block;line-height: 1.2em;}#sk-container-id-2 div.sk-label-container {text-align: center;}#sk-container-id-2 div.sk-container {/* jupyter's `normalize.less` sets `[hidden] { display: none; }` but bootstrap.min.css set `[hidden] { display: none !important; }` so we also need the `!important` here to be able to override the default hidden behavior on the sphinx rendered scikit-learn.org. See: https://github.com/scikit-learn/scikit-learn/issues/21755 */display: inline-block !important;position: relative;}#sk-container-id-2 div.sk-text-repr-fallback {display: none;}</style><div id=\"sk-container-id-2\" class=\"sk-top-container\"><div class=\"sk-text-repr-fallback\"><pre>DecisionTreeClassifier()</pre><b>In a Jupyter environment, please rerun this cell to show the HTML representation or trust the notebook. <br />On GitHub, the HTML representation is unable to render, please try loading this page with nbviewer.org.</b></div><div class=\"sk-container\" hidden><div class=\"sk-item\"><div class=\"sk-estimator sk-toggleable\"><input class=\"sk-toggleable__control sk-hidden--visually\" id=\"sk-estimator-id-2\" type=\"checkbox\" checked><label for=\"sk-estimator-id-2\" class=\"sk-toggleable__label sk-toggleable__label-arrow\">DecisionTreeClassifier</label><div class=\"sk-toggleable__content\"><pre>DecisionTreeClassifier()</pre></div></div></div></div></div>"
      ],
      "text/plain": [
       "DecisionTreeClassifier()"
      ]
     },
     "execution_count": 66,
     "metadata": {},
     "output_type": "execute_result"
    }
   ],
   "source": [
    "dtree = DecisionTreeClassifier()\n",
    "dtree.fit(X.values,y.values)"
   ]
  },
  {
   "cell_type": "code",
   "execution_count": 67,
   "id": "05413943",
   "metadata": {},
   "outputs": [
    {
     "name": "stderr",
     "output_type": "stream",
     "text": [
      "D:\\Programs\\anaconda3\\lib\\site-packages\\sklearn\\base.py:443: UserWarning: X has feature names, but DecisionTreeClassifier was fitted without feature names\n",
      "  warnings.warn(\n"
     ]
    },
    {
     "data": {
      "text/plain": [
       "array([5, 5, 5, 5, 2, 5, 4, 4, 5, 3], dtype=int64)"
      ]
     },
     "execution_count": 67,
     "metadata": {},
     "output_type": "execute_result"
    }
   ],
   "source": [
    "dtree.predict(X_test[0:10])"
   ]
  },
  {
   "cell_type": "code",
   "execution_count": 68,
   "id": "a921a577",
   "metadata": {},
   "outputs": [
    {
     "name": "stderr",
     "output_type": "stream",
     "text": [
      "D:\\Programs\\anaconda3\\lib\\site-packages\\sklearn\\base.py:443: UserWarning: X has feature names, but DecisionTreeClassifier was fitted without feature names\n",
      "  warnings.warn(\n"
     ]
    },
    {
     "data": {
      "text/plain": [
       "0.9999941361698634"
      ]
     },
     "execution_count": 68,
     "metadata": {},
     "output_type": "execute_result"
    }
   ],
   "source": [
    "# get the score\n",
    "score = dtree.score(X_test, y_test)\n",
    "score"
   ]
  },
  {
   "cell_type": "code",
   "execution_count": null,
   "id": "e7e5c5c9",
   "metadata": {},
   "outputs": [],
   "source": []
  }
 ],
 "metadata": {
  "kernelspec": {
   "display_name": "Python 3 (ipykernel)",
   "language": "python",
   "name": "python3"
  },
  "language_info": {
   "codemirror_mode": {
    "name": "ipython",
    "version": 3
   },
   "file_extension": ".py",
   "mimetype": "text/x-python",
   "name": "python",
   "nbconvert_exporter": "python",
   "pygments_lexer": "ipython3",
   "version": "3.9.7"
  }
 },
 "nbformat": 4,
 "nbformat_minor": 5
}
